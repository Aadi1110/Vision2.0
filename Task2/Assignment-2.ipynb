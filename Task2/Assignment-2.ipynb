{
 "cells": [
  {
   "cell_type": "code",
   "execution_count": 3,
   "metadata": {},
   "outputs": [],
   "source": [
    "import cv2\n",
    "import numpy as np\n",
    "scale_percent = 100\n",
    "\n",
    "cap = cv2.VideoCapture('http://192.168.1.4:4747/video')\n",
    "#cap = cv2.VideoCapture('C:\\\\Users\\\\aadis\\\\OneDrive\\\\Desktop\\\\Vision\\\\VideoIn.mp4')\n",
    "w = int(cap.get(3))\n",
    "h = int(cap.get(4))\n",
    "\n",
    "size = (w, h)\n",
    "result1 = cv2.VideoWriter('videoIn.mp4', cv2.VideoWriter_fourcc(*'MP4V'), 20, size)\n",
    "result2 = cv2.VideoWriter('videoOut.mp4', cv2.VideoWriter_fourcc(*'MP4V'), 20, size)\n",
    "while True:\n",
    "\tret,img = cap.read()\n",
    "\twidth = int(img.shape[1]*scale_percent/100)\n",
    "\theight = int(img.shape[0]*scale_percent/100)\n",
    "\tdsize = (width, height)\n",
    "\trsz = cv2.resize(img, dsize)\n",
    "\thsv = cv2.cvtColor(rsz, cv2.COLOR_BGR2HSV)\n",
    "\tlY = np.array([20,100,100])\n",
    "\tuY = np.array([40,255,255])\n",
    "\tmaskY = cv2.inRange(hsv,lY,uY)\n",
    "\tmaskY = cv2.GaussianBlur(maskY, (0,0), sigmaX=1, sigmaY=1, borderType=cv2.BORDER_DEFAULT)\n",
    "\tkernel = np.ones((1,1), np.uint8)\n",
    "\ter = cv2.erode(maskY, kernel, iterations = 2)\n",
    "\tdil = cv2.dilate(er, kernel, iterations = 2)\n",
    "\tyel = cv2.bitwise_and(rsz,rsz,mask=dil)\n",
    "\tcontours, hierarchy = cv2.findContours(dil, cv2.RETR_TREE, cv2.CHAIN_APPROX_SIMPLE)\n",
    "\tcf = []\n",
    "\tcd = []\n",
    "\tfor cnt in contours:\n",
    "\t\teps = 0.1*cv2.arcLength(cnt, True)\n",
    "\t\tapprox = cv2.approxPolyDP(cnt, eps, True)\n",
    "\t\tif(len(approx)==3 and cv2.contourArea(cnt)>=1500):\n",
    "\t\t\tcf.append(approx)\n",
    "\t\telse:\n",
    "\t\t\tcd.append(cnt)\n",
    "\tcv2.drawContours(yel, cf, -1, (0,255,0), 3)\n",
    "\tcv2.drawContours(yel, cd, -1, (0,0,0), -1)\n",
    "\tcv2.imshow('yel',yel)\n",
    "\tcv2.imshow('rsz',rsz)\n",
    "\tresult1.write(rsz)    \n",
    "\tresult2.write(yel)\n",
    "\tif ret==False:\n",
    "\t\tbreak\n",
    "\tif cv2.waitKey(25) & 0xFF == ord('q'):\n",
    "\t\tbreak\n",
    "cap.release()\n",
    "result1.release()\n",
    "result2.release()\n",
    "cv2.destroyAllWindows()"
   ]
  }
 ],
 "metadata": {
  "kernelspec": {
   "display_name": "Python 3",
   "language": "python",
   "name": "python3"
  },
  "language_info": {
   "codemirror_mode": {
    "name": "ipython",
    "version": 3
   },
   "file_extension": ".py",
   "mimetype": "text/x-python",
   "name": "python",
   "nbconvert_exporter": "python",
   "pygments_lexer": "ipython3",
   "version": "3.7.7"
  }
 },
 "nbformat": 4,
 "nbformat_minor": 4
}
