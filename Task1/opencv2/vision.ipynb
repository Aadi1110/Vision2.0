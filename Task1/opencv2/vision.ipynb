{
 "cells": [
  {
   "cell_type": "code",
   "execution_count": 1,
   "metadata": {},
   "outputs": [],
   "source": [
    "import cv2 as cv\n",
    "import numpy as np"
   ]
  },
  {
   "cell_type": "markdown",
   "metadata": {},
   "source": [
    "# Red"
   ]
  },
  {
   "cell_type": "code",
   "execution_count": 61,
   "metadata": {},
   "outputs": [],
   "source": [
    "upper_1,lower_1 = np.array([2,0,254]),np.array([0,0,245])\n",
    "upper_2,lower_2 = np.array([20,72,221]),np.array([20,72,221])\n",
    "upper_3,lower_3 = np.array([36,28,237]),np.array([20,0,236])\n",
    "\n",
    "mask_1 = cv.inRange(img,lower_1,upper_1)\n",
    "mask_2 = cv.inRange(img,lower_2,upper_2)\n",
    "mask_3 = cv.inRange(img,lower_3,upper_3)\n",
    "\n",
    "org_1 = cv.bitwise_and(img,img,mask=mask_1)\n",
    "org_2 = cv.bitwise_and(img,img,mask=mask_2)\n",
    "org_3 = cv.bitwise_and(img,img,mask=mask_3)\n",
    "\n",
    "org_1[mask_1==0] = [255,255,255]\n",
    "org_2[mask_2==0] = [255,255,255]\n",
    "org_3[mask_3==0] = [255,255,255]\n",
    "\n",
    "org_n = cv.bitwise_and(org_1,org_2)\n",
    "org = cv.bitwise_and(org_n,org_3)\n",
    "\n",
    "cv.imshow(\"org\",org)\n",
    "cv.imwrite(\"red.jpg\",org)\n",
    "\n",
    "cv.waitKey(0)\n",
    "cv.destroyAllWindows()"
   ]
  },
  {
   "cell_type": "markdown",
   "metadata": {},
   "source": [
    "# Green"
   ]
  },
  {
   "cell_type": "code",
   "execution_count": 62,
   "metadata": {},
   "outputs": [],
   "source": [
    "upper,lower = np.array([2,255,1]),np.array([0,252,0])\n",
    "\n",
    "mask = cv.inRange(img,lower,upper)\n",
    "\n",
    "org = cv.bitwise_and(img,img,mask=mask)\n",
    "\n",
    "org[mask==0] = [255,255,255]\n",
    "\n",
    "cv.imshow(\"org\",org)\n",
    "cv.imwrite(\"green.jpg\",org)\n",
    "\n",
    "cv.waitKey(0)\n",
    "cv.destroyAllWindows()"
   ]
  },
  {
   "cell_type": "markdown",
   "metadata": {},
   "source": [
    "# Blue"
   ]
  },
  {
   "cell_type": "code",
   "execution_count": 63,
   "metadata": {},
   "outputs": [],
   "source": [
    "upper_1,lower_1 = np.array([254,0,0]),np.array([242,0,0])\n",
    "upper_2,lower_2 = np.array([200,189,100]),np.array([151,100,48])\n",
    "\n",
    "mask_1 = cv.inRange(img,lower_1,upper_1)\n",
    "mask_2 = cv.inRange(img,lower_2,upper_2)\n",
    "\n",
    "org_1 = cv.bitwise_and(img,img,mask=mask_1)\n",
    "org_2 = cv.bitwise_and(img,img,mask=mask_2)\n",
    "\n",
    "org_1[mask_1==0] = [255,255,255]\n",
    "org_2[mask_2==0] = [255,255,255]\n",
    "\n",
    "org = cv.bitwise_and(org_1,org_2)\n",
    "\n",
    "cv.imshow(\"org\",org)\n",
    "cv.imwrite(\"blue.jpg\",org)\n",
    "\n",
    "cv.waitKey(0)\n",
    "cv.destroyAllWindows()"
   ]
  }
 ],
 "metadata": {
  "kernelspec": {
   "display_name": "Python 3",
   "language": "python",
   "name": "python3"
  },
  "language_info": {
   "codemirror_mode": {
    "name": "ipython",
    "version": 3
   },
   "file_extension": ".py",
   "mimetype": "text/x-python",
   "name": "python",
   "nbconvert_exporter": "python",
   "pygments_lexer": "ipython3",
   "version": "3.7.6"
  }
 },
 "nbformat": 4,
 "nbformat_minor": 4
}
