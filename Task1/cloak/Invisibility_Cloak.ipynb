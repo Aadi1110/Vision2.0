{
 "cells": [
  {
   "cell_type": "code",
   "execution_count": 3,
   "metadata": {},
   "outputs": [],
   "source": [
    "import cv2 \n",
    "import numpy as np \n",
    "\n",
    "video = cv2.VideoCapture(\"Input.mp4\") \n",
    "\n",
    "width = int(video.get(3))\n",
    "height = int(video.get(4))\n",
    "\n",
    "size = (width, height)\n",
    "\n",
    "result = cv2.VideoWriter('ouptut.avi', cv2.VideoWriter_fourcc(*'MJPG'), 20, size)\n",
    "\n",
    "background = 0\n",
    "\n",
    "for i in range(60): \n",
    "    ret, background = video.read() \n",
    "    if ret == False : \n",
    "        continue\n",
    " \n",
    "while True: \n",
    "    ret, img = video.read() \n",
    "    \n",
    "    if ret == False : \n",
    "        break\n",
    "    \n",
    "    hsv = cv2.cvtColor(img, cv2.COLOR_BGR2HSV) \n",
    "\n",
    "    l1 = np.array([100, 40, 40])\n",
    "    u1 = np.array([100, 255, 255]) \n",
    "    mask1 = cv2.inRange(hsv, l1, u1)\n",
    "    \n",
    "    l2 = np.array([155, 40, 40]) \n",
    "    u2 = np.array([180, 255, 255]) \n",
    "    mask2 = cv2.inRange(hsv, l2, u2)\n",
    "    \n",
    "    mask1 = mask1 + mask2 \n",
    "\n",
    "    kernel = np.ones((1, 1), np.uint8) \n",
    "    \n",
    "    mask1 = cv2.dilate(mask1, kernel, iterations = 1) \n",
    "    mask2 = cv2.bitwise_not(mask1) \n",
    " \n",
    "    o1 = cv2.bitwise_and(background, background, mask = mask1) \n",
    "    o2 = cv2.bitwise_and(img, img, mask = mask2) \n",
    "    \n",
    "    output = cv2.addWeighted(o1, 1, o2, 1, 0) \n",
    "\n",
    "    cv2.imshow(\"Invisible Box\", output) \n",
    "    \n",
    "    result.write(output)\n",
    "    \n",
    "    if cv2.waitKey(25) & 0xFF == ord('q') : \n",
    "        break\n",
    "\n",
    "video.release()\n",
    "result.release()\n",
    "cv2.destroyAllWindows()\n"
   ]
  },
  {
   "cell_type": "code",
   "execution_count": null,
   "metadata": {},
   "outputs": [],
   "source": []
  }
 ],
 "metadata": {
  "kernelspec": {
   "display_name": "Python 3",
   "language": "python",
   "name": "python3"
  },
  "language_info": {
   "codemirror_mode": {
    "name": "ipython",
    "version": 3
   },
   "file_extension": ".py",
   "mimetype": "text/x-python",
   "name": "python",
   "nbconvert_exporter": "python",
   "pygments_lexer": "ipython3",
   "version": "3.8.3"
  }
 },
 "nbformat": 4,
 "nbformat_minor": 4
}
